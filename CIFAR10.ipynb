{
  "nbformat": 4,
  "nbformat_minor": 0,
  "metadata": {
    "colab": {
      "name": "CIFAR10.ipynb",
      "provenance": [],
      "collapsed_sections": [],
      "authorship_tag": "ABX9TyOrdzyZjwQcOXFPEavzGxAp",
      "include_colab_link": true
    },
    "kernelspec": {
      "name": "python3",
      "display_name": "Python 3"
    },
    "language_info": {
      "name": "python"
    }
  },
  "cells": [
    {
      "cell_type": "markdown",
      "metadata": {
        "id": "view-in-github",
        "colab_type": "text"
      },
      "source": [
        "<a href=\"https://colab.research.google.com/github/Ojasvi-Verma/Ojasvi-Verma/blob/main/CIFAR10.ipynb\" target=\"_parent\"><img src=\"https://colab.research.google.com/assets/colab-badge.svg\" alt=\"Open In Colab\"/></a>"
      ]
    },
    {
      "cell_type": "code",
      "metadata": {
        "id": "n0dXQBdhTxJ_"
      },
      "source": [
        "import tensorflow as tf\n",
        "\n",
        "from tensorflow.keras import datasets, layers, models\n",
        "import matplotlib.pyplot as plt"
      ],
      "execution_count": 1,
      "outputs": []
    },
    {
      "cell_type": "code",
      "metadata": {
        "colab": {
          "base_uri": "https://localhost:8080/"
        },
        "id": "9S4LtJXLUhL7",
        "outputId": "22e88d85-c8a2-4c41-9c53-4b613ecbca58"
      },
      "source": [
        "\n",
        "(X_train, y_train), (X_test, y_test) = datasets.cifar10.load_data()\n",
        "\n",
        "X_train, X_test = X_train / 255.0 , X_test / 255.0\n"
      ],
      "execution_count": 2,
      "outputs": [
        {
          "output_type": "stream",
          "text": [
            "Downloading data from https://www.cs.toronto.edu/~kriz/cifar-10-python.tar.gz\n",
            "170500096/170498071 [==============================] - 2s 0us/step\n"
          ],
          "name": "stdout"
        }
      ]
    },
    {
      "cell_type": "code",
      "metadata": {
        "id": "887TTcCcV6KN"
      },
      "source": [
        "class_names = ['airplane', 'automobile', 'bird', 'cat', 'deer', 'dog', 'frog', 'horse', 'ship', 'truck']\n",
        "X_train.shape\n",
        "\n",
        "for i in range(0, 10): \n",
        "  plt.figure(figsize = (.5, .5))\n",
        "  plt.imshow(X_train[i])\n",
        "\n",
        "  plt.xlabel(class_names[y_train[i][0]])\n",
        "plt.show( )\n"
      ],
      "execution_count": null,
      "outputs": []
    },
    {
      "cell_type": "code",
      "metadata": {
        "id": "hRCeT7d-ZQ0m"
      },
      "source": [
        "cnn = models.Sequential()\n",
        "\n",
        "cnn.add(layers.Conv2D(32, (3, 3), activation = 'relu', input_shape =(32, 32, 3)))\n",
        "cnn.add(layers.MaxPooling2D((2,2)))\n",
        "cnn.add(layers.Conv2D(64, (3, 3), activation = 'relu'))\n",
        "cnn.add(layers.MaxPooling2D((2,2)))\n",
        "cnn.add(layers.Conv2D(64, (3, 3), activation = 'relu'))"
      ],
      "execution_count": 23,
      "outputs": []
    },
    {
      "cell_type": "code",
      "metadata": {
        "colab": {
          "base_uri": "https://localhost:8080/"
        },
        "id": "tNKK6Z4ebGZW",
        "outputId": "54f391fe-d008-4466-dac1-1b15adecc903"
      },
      "source": [
        "cnn.summary()"
      ],
      "execution_count": 24,
      "outputs": [
        {
          "output_type": "stream",
          "text": [
            "Model: \"sequential_1\"\n",
            "_________________________________________________________________\n",
            "Layer (type)                 Output Shape              Param #   \n",
            "=================================================================\n",
            "conv2d (Conv2D)              (None, 30, 30, 32)        896       \n",
            "_________________________________________________________________\n",
            "max_pooling2d (MaxPooling2D) (None, 15, 15, 32)        0         \n",
            "_________________________________________________________________\n",
            "conv2d_1 (Conv2D)            (None, 13, 13, 64)        18496     \n",
            "_________________________________________________________________\n",
            "max_pooling2d_1 (MaxPooling2 (None, 6, 6, 64)          0         \n",
            "_________________________________________________________________\n",
            "max_pooling2d_2 (MaxPooling2 (None, 3, 3, 64)          0         \n",
            "_________________________________________________________________\n",
            "conv2d_2 (Conv2D)            (None, 1, 1, 64)          36928     \n",
            "=================================================================\n",
            "Total params: 56,320\n",
            "Trainable params: 56,320\n",
            "Non-trainable params: 0\n",
            "_________________________________________________________________\n"
          ],
          "name": "stdout"
        }
      ]
    },
    {
      "cell_type": "code",
      "metadata": {
        "id": "o-lXDOELbdRO"
      },
      "source": [
        ""
      ],
      "execution_count": null,
      "outputs": []
    },
    {
      "cell_type": "code",
      "metadata": {
        "id": "n4TsMjxXe6an"
      },
      "source": [
        "cnn.add(layers.Flatten())\n",
        "cnn.add(layers.Dense(64, activation = 'relu'))\n",
        "cnn.add(layers.Dense(10, activation = 'softmax'))\n"
      ],
      "execution_count": 32,
      "outputs": []
    },
    {
      "cell_type": "code",
      "metadata": {
        "colab": {
          "base_uri": "https://localhost:8080/"
        },
        "id": "Fo2grYpugaH7",
        "outputId": "cdac764e-695c-4ec6-9665-28d06398c8e3"
      },
      "source": [
        "cnn.compile(optimizer = 'adam', loss = 'sparse_categorical_crossentropy', metrics = ['accuracy'])\n",
        "cnn.fit(X_train, y_train, epochs = 10, validation_data = (X_test, y_test))"
      ],
      "execution_count": null,
      "outputs": [
        {
          "output_type": "stream",
          "text": [
            "Epoch 1/10\n",
            "1563/1563 [==============================] - 57s 36ms/step - loss: 1.9527 - accuracy: 0.2283 - val_loss: 1.5067 - val_accuracy: 0.4283\n",
            "Epoch 2/10\n",
            "1563/1563 [==============================] - 56s 36ms/step - loss: 1.4472 - accuracy: 0.4504 - val_loss: 1.3050 - val_accuracy: 0.5224\n",
            "Epoch 3/10\n",
            "1563/1563 [==============================] - 56s 36ms/step - loss: 1.2746 - accuracy: 0.5327 - val_loss: 1.1915 - val_accuracy: 0.5641\n",
            "Epoch 4/10\n",
            "1563/1563 [==============================] - 56s 36ms/step - loss: 1.1654 - accuracy: 0.5780 - val_loss: 1.1810 - val_accuracy: 0.5806\n",
            "Epoch 5/10\n",
            "1563/1563 [==============================] - 56s 36ms/step - loss: 1.1003 - accuracy: 0.6035 - val_loss: 1.1406 - val_accuracy: 0.5984\n",
            "Epoch 6/10\n",
            "1563/1563 [==============================] - 56s 36ms/step - loss: 1.0522 - accuracy: 0.6233 - val_loss: 1.0902 - val_accuracy: 0.6136\n",
            "Epoch 7/10\n",
            "1563/1563 [==============================] - 56s 36ms/step - loss: 1.0096 - accuracy: 0.6404 - val_loss: 1.0795 - val_accuracy: 0.6200\n",
            "Epoch 8/10\n",
            "1563/1563 [==============================] - 58s 37ms/step - loss: 0.9833 - accuracy: 0.6522 - val_loss: 1.0313 - val_accuracy: 0.6376\n",
            "1563/1563 [==============================] - 58s 37ms/step - loss: 0.9833 - accuracy: 0.6522 - val_loss: 1.0313 - val_accuracy: 0.6376\n",
            "Epoch 9/10\n",
            "   1/1563 [..............................] - ETA: 59s - loss: 0.9898 - accuracy: 0.6562Epoch 9/10\n",
            "1563/1563 [==============================] - 58s 37ms/step - loss: 0.9444 - accuracy: 0.6659 - val_loss: 1.0749 - val_accuracy: 0.6305\n",
            "1563/1563 [==============================] - 58s 37ms/step - loss: 0.9444 - accuracy: 0.6659 - val_loss: 1.0749 - val_accuracy: 0.6305\n",
            "Epoch 10/10\n",
            "   1/1563 [..............................] - ETA: 51s - loss: 1.4725 - accuracy: 0.4375Epoch 10/10\n",
            "1562/1563 [============================>.] - ETA: 0s - loss: 0.9185 - accuracy: 0.6755"
          ],
          "name": "stdout"
        }
      ]
    },
    {
      "cell_type": "code",
      "metadata": {
        "colab": {
          "base_uri": "https://localhost:8080/"
        },
        "id": "wW2sQbiJj5D1",
        "outputId": "31cab7db-c311-44e9-92a7-2d1e1cf25f1a"
      },
      "source": [
        "test_loss, test_acc = cnn.evaluate(X_test, y_test, verbose = 2)\n",
        "\n",
        "print(test_acc)"
      ],
      "execution_count": 29,
      "outputs": [
        {
          "output_type": "stream",
          "text": [
            "313/313 - 3s - loss: 2.3026 - accuracy: 0.1001\n",
            "0.10010000318288803\n"
          ],
          "name": "stdout"
        }
      ]
    }
  ]
}